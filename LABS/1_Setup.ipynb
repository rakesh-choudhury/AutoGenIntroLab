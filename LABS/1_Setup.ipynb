{
 "cells": [
  {
   "cell_type": "markdown",
   "metadata": {},
   "source": [
    "## 1. Setup\n",
    "\n",
    "The simplest way to install AutoGen is from pip: pip install pyautogen. Find more options in Installation."
   ]
  },
  {
   "cell_type": "code",
   "execution_count": 1,
   "metadata": {},
   "outputs": [
    {
     "name": "stdout",
     "output_type": "stream",
     "text": [
      "Collecting pyautogen\n",
      "  Using cached pyautogen-0.2.26-py3-none-any.whl.metadata (23 kB)\n",
      "Collecting diskcache (from pyautogen)\n",
      "  Using cached diskcache-5.6.3-py3-none-any.whl.metadata (20 kB)\n",
      "Collecting docker (from pyautogen)\n",
      "  Using cached docker-7.0.0-py3-none-any.whl.metadata (3.5 kB)\n",
      "Collecting flaml (from pyautogen)\n",
      "  Using cached FLAML-2.1.2-py3-none-any.whl.metadata (15 kB)\n",
      "Requirement already satisfied: numpy<2,>=1.17.0 in /Users/rakeshchoudhury/Git/AzureAILab/AzureAI/lib/python3.12/site-packages (from pyautogen) (1.26.4)\n",
      "Collecting openai<1.21,>=1.3 (from pyautogen)\n",
      "  Using cached openai-1.20.0-py3-none-any.whl.metadata (21 kB)\n",
      "Requirement already satisfied: pydantic!=2.6.0,<3,>=1.10 in /Users/rakeshchoudhury/Git/AzureAILab/AzureAI/lib/python3.12/site-packages (from pyautogen) (2.7.0)\n",
      "Requirement already satisfied: python-dotenv in /Users/rakeshchoudhury/Git/AzureAILab/AzureAI/lib/python3.12/site-packages (from pyautogen) (1.0.1)\n",
      "Collecting termcolor (from pyautogen)\n",
      "  Using cached termcolor-2.4.0-py3-none-any.whl.metadata (6.1 kB)\n",
      "Collecting tiktoken (from pyautogen)\n",
      "  Using cached tiktoken-0.6.0-cp312-cp312-macosx_11_0_arm64.whl.metadata (6.6 kB)\n",
      "Requirement already satisfied: anyio<5,>=3.5.0 in /Users/rakeshchoudhury/Git/AzureAILab/AzureAI/lib/python3.12/site-packages (from openai<1.21,>=1.3->pyautogen) (4.3.0)\n",
      "Requirement already satisfied: distro<2,>=1.7.0 in /Users/rakeshchoudhury/Git/AzureAILab/AzureAI/lib/python3.12/site-packages (from openai<1.21,>=1.3->pyautogen) (1.9.0)\n",
      "Requirement already satisfied: httpx<1,>=0.23.0 in /Users/rakeshchoudhury/Git/AzureAILab/AzureAI/lib/python3.12/site-packages (from openai<1.21,>=1.3->pyautogen) (0.27.0)\n",
      "Requirement already satisfied: sniffio in /Users/rakeshchoudhury/Git/AzureAILab/AzureAI/lib/python3.12/site-packages (from openai<1.21,>=1.3->pyautogen) (1.3.1)\n",
      "Requirement already satisfied: tqdm>4 in /Users/rakeshchoudhury/Git/AzureAILab/AzureAI/lib/python3.12/site-packages (from openai<1.21,>=1.3->pyautogen) (4.66.2)\n",
      "Requirement already satisfied: typing-extensions<5,>=4.7 in /Users/rakeshchoudhury/Git/AzureAILab/AzureAI/lib/python3.12/site-packages (from openai<1.21,>=1.3->pyautogen) (4.11.0)\n",
      "Requirement already satisfied: annotated-types>=0.4.0 in /Users/rakeshchoudhury/Git/AzureAILab/AzureAI/lib/python3.12/site-packages (from pydantic!=2.6.0,<3,>=1.10->pyautogen) (0.6.0)\n",
      "Requirement already satisfied: pydantic-core==2.18.1 in /Users/rakeshchoudhury/Git/AzureAILab/AzureAI/lib/python3.12/site-packages (from pydantic!=2.6.0,<3,>=1.10->pyautogen) (2.18.1)\n",
      "Requirement already satisfied: packaging>=14.0 in /Users/rakeshchoudhury/Git/AzureAILab/AzureAI/lib/python3.12/site-packages (from docker->pyautogen) (23.2)\n",
      "Requirement already satisfied: requests>=2.26.0 in /Users/rakeshchoudhury/Git/AzureAILab/AzureAI/lib/python3.12/site-packages (from docker->pyautogen) (2.31.0)\n",
      "Requirement already satisfied: urllib3>=1.26.0 in /Users/rakeshchoudhury/Git/AzureAILab/AzureAI/lib/python3.12/site-packages (from docker->pyautogen) (2.2.1)\n",
      "Collecting regex>=2022.1.18 (from tiktoken->pyautogen)\n",
      "  Using cached regex-2024.4.16-cp312-cp312-macosx_11_0_arm64.whl.metadata (40 kB)\n",
      "Requirement already satisfied: idna>=2.8 in /Users/rakeshchoudhury/Git/AzureAILab/AzureAI/lib/python3.12/site-packages (from anyio<5,>=3.5.0->openai<1.21,>=1.3->pyautogen) (3.7)\n",
      "Requirement already satisfied: certifi in /Users/rakeshchoudhury/Git/AzureAILab/AzureAI/lib/python3.12/site-packages (from httpx<1,>=0.23.0->openai<1.21,>=1.3->pyautogen) (2024.2.2)\n",
      "Requirement already satisfied: httpcore==1.* in /Users/rakeshchoudhury/Git/AzureAILab/AzureAI/lib/python3.12/site-packages (from httpx<1,>=0.23.0->openai<1.21,>=1.3->pyautogen) (1.0.5)\n",
      "Requirement already satisfied: h11<0.15,>=0.13 in /Users/rakeshchoudhury/Git/AzureAILab/AzureAI/lib/python3.12/site-packages (from httpcore==1.*->httpx<1,>=0.23.0->openai<1.21,>=1.3->pyautogen) (0.14.0)\n",
      "Requirement already satisfied: charset-normalizer<4,>=2 in /Users/rakeshchoudhury/Git/AzureAILab/AzureAI/lib/python3.12/site-packages (from requests>=2.26.0->docker->pyautogen) (3.3.2)\n",
      "Using cached pyautogen-0.2.26-py3-none-any.whl (264 kB)\n",
      "Using cached openai-1.20.0-py3-none-any.whl (292 kB)\n",
      "Using cached diskcache-5.6.3-py3-none-any.whl (45 kB)\n",
      "Using cached docker-7.0.0-py3-none-any.whl (147 kB)\n",
      "Using cached FLAML-2.1.2-py3-none-any.whl (296 kB)\n",
      "Using cached termcolor-2.4.0-py3-none-any.whl (7.7 kB)\n",
      "Using cached tiktoken-0.6.0-cp312-cp312-macosx_11_0_arm64.whl (922 kB)\n",
      "Using cached regex-2024.4.16-cp312-cp312-macosx_11_0_arm64.whl (292 kB)\n",
      "Installing collected packages: termcolor, regex, flaml, diskcache, tiktoken, docker, openai, pyautogen\n",
      "  Attempting uninstall: openai\n",
      "    Found existing installation: openai 1.23.2\n",
      "    Uninstalling openai-1.23.2:\n",
      "      Successfully uninstalled openai-1.23.2\n",
      "Successfully installed diskcache-5.6.3 docker-7.0.0 flaml-2.1.2 openai-1.20.0 pyautogen-0.2.26 regex-2024.4.16 termcolor-2.4.0 tiktoken-0.6.0\n",
      "Note: you may need to restart the kernel to use updated packages.\n"
     ]
    }
   ],
   "source": [
    "##Only need to run 1 time \n",
    "\n",
    "%pip install pyautogen\n",
    "\n"
   ]
  },
  {
   "cell_type": "markdown",
   "metadata": {},
   "source": [
    "## 2. Configuration\n",
    "\n",
    "This is the LLM configuration to be use by the agent"
   ]
  },
  {
   "cell_type": "code",
   "execution_count": 3,
   "metadata": {},
   "outputs": [
    {
     "name": "stdout",
     "output_type": "stream",
     "text": [
      "Requirement already satisfied: pyautogen in /Users/rakeshchoudhury/Git/AzureAILab/AzureAI/lib/python3.12/site-packages (0.2.26)\n",
      "Requirement already satisfied: diskcache in /Users/rakeshchoudhury/Git/AzureAILab/AzureAI/lib/python3.12/site-packages (from pyautogen) (5.6.3)\n",
      "Requirement already satisfied: docker in /Users/rakeshchoudhury/Git/AzureAILab/AzureAI/lib/python3.12/site-packages (from pyautogen) (7.0.0)\n",
      "Requirement already satisfied: flaml in /Users/rakeshchoudhury/Git/AzureAILab/AzureAI/lib/python3.12/site-packages (from pyautogen) (2.1.2)\n",
      "Requirement already satisfied: numpy<2,>=1.17.0 in /Users/rakeshchoudhury/Git/AzureAILab/AzureAI/lib/python3.12/site-packages (from pyautogen) (1.26.4)\n",
      "Requirement already satisfied: openai<1.21,>=1.3 in /Users/rakeshchoudhury/Git/AzureAILab/AzureAI/lib/python3.12/site-packages (from pyautogen) (1.20.0)\n",
      "Requirement already satisfied: pydantic!=2.6.0,<3,>=1.10 in /Users/rakeshchoudhury/Git/AzureAILab/AzureAI/lib/python3.12/site-packages (from pyautogen) (2.7.0)\n",
      "Requirement already satisfied: python-dotenv in /Users/rakeshchoudhury/Git/AzureAILab/AzureAI/lib/python3.12/site-packages (from pyautogen) (1.0.1)\n",
      "Requirement already satisfied: termcolor in /Users/rakeshchoudhury/Git/AzureAILab/AzureAI/lib/python3.12/site-packages (from pyautogen) (2.4.0)\n",
      "Requirement already satisfied: tiktoken in /Users/rakeshchoudhury/Git/AzureAILab/AzureAI/lib/python3.12/site-packages (from pyautogen) (0.6.0)\n",
      "Requirement already satisfied: anyio<5,>=3.5.0 in /Users/rakeshchoudhury/Git/AzureAILab/AzureAI/lib/python3.12/site-packages (from openai<1.21,>=1.3->pyautogen) (4.3.0)\n",
      "Requirement already satisfied: distro<2,>=1.7.0 in /Users/rakeshchoudhury/Git/AzureAILab/AzureAI/lib/python3.12/site-packages (from openai<1.21,>=1.3->pyautogen) (1.9.0)\n",
      "Requirement already satisfied: httpx<1,>=0.23.0 in /Users/rakeshchoudhury/Git/AzureAILab/AzureAI/lib/python3.12/site-packages (from openai<1.21,>=1.3->pyautogen) (0.27.0)\n",
      "Requirement already satisfied: sniffio in /Users/rakeshchoudhury/Git/AzureAILab/AzureAI/lib/python3.12/site-packages (from openai<1.21,>=1.3->pyautogen) (1.3.1)\n",
      "Requirement already satisfied: tqdm>4 in /Users/rakeshchoudhury/Git/AzureAILab/AzureAI/lib/python3.12/site-packages (from openai<1.21,>=1.3->pyautogen) (4.66.2)\n",
      "Requirement already satisfied: typing-extensions<5,>=4.7 in /Users/rakeshchoudhury/Git/AzureAILab/AzureAI/lib/python3.12/site-packages (from openai<1.21,>=1.3->pyautogen) (4.11.0)\n",
      "Requirement already satisfied: annotated-types>=0.4.0 in /Users/rakeshchoudhury/Git/AzureAILab/AzureAI/lib/python3.12/site-packages (from pydantic!=2.6.0,<3,>=1.10->pyautogen) (0.6.0)\n",
      "Requirement already satisfied: pydantic-core==2.18.1 in /Users/rakeshchoudhury/Git/AzureAILab/AzureAI/lib/python3.12/site-packages (from pydantic!=2.6.0,<3,>=1.10->pyautogen) (2.18.1)\n",
      "Requirement already satisfied: packaging>=14.0 in /Users/rakeshchoudhury/Git/AzureAILab/AzureAI/lib/python3.12/site-packages (from docker->pyautogen) (23.2)\n",
      "Requirement already satisfied: requests>=2.26.0 in /Users/rakeshchoudhury/Git/AzureAILab/AzureAI/lib/python3.12/site-packages (from docker->pyautogen) (2.31.0)\n",
      "Requirement already satisfied: urllib3>=1.26.0 in /Users/rakeshchoudhury/Git/AzureAILab/AzureAI/lib/python3.12/site-packages (from docker->pyautogen) (2.2.1)\n",
      "Requirement already satisfied: regex>=2022.1.18 in /Users/rakeshchoudhury/Git/AzureAILab/AzureAI/lib/python3.12/site-packages (from tiktoken->pyautogen) (2024.4.16)\n",
      "Requirement already satisfied: idna>=2.8 in /Users/rakeshchoudhury/Git/AzureAILab/AzureAI/lib/python3.12/site-packages (from anyio<5,>=3.5.0->openai<1.21,>=1.3->pyautogen) (3.7)\n",
      "Requirement already satisfied: certifi in /Users/rakeshchoudhury/Git/AzureAILab/AzureAI/lib/python3.12/site-packages (from httpx<1,>=0.23.0->openai<1.21,>=1.3->pyautogen) (2024.2.2)\n",
      "Requirement already satisfied: httpcore==1.* in /Users/rakeshchoudhury/Git/AzureAILab/AzureAI/lib/python3.12/site-packages (from httpx<1,>=0.23.0->openai<1.21,>=1.3->pyautogen) (1.0.5)\n",
      "Requirement already satisfied: h11<0.15,>=0.13 in /Users/rakeshchoudhury/Git/AzureAILab/AzureAI/lib/python3.12/site-packages (from httpcore==1.*->httpx<1,>=0.23.0->openai<1.21,>=1.3->pyautogen) (0.14.0)\n",
      "Requirement already satisfied: charset-normalizer<4,>=2 in /Users/rakeshchoudhury/Git/AzureAILab/AzureAI/lib/python3.12/site-packages (from requests>=2.26.0->docker->pyautogen) (3.3.2)\n"
     ]
    }
   ],
   "source": [
    "!pip3 install pyautogen"
   ]
  },
  {
   "cell_type": "code",
   "execution_count": 9,
   "metadata": {},
   "outputs": [],
   "source": [
    "from autogen import config_list_from_json\n",
    "\n",
    "myModelname=\"gpt-35-turbo\" #your model Name\n",
    "\n",
    "#Read config File AOAI_CONFIG_LIST.json\n",
    "config_list = config_list_from_json(\n",
    "    env_or_file=\"/Users/rakeshchoudhury/Git/AzureAILab/AutoGenIntroLab/AOAI_CONFIG_LIST.json\",\n",
    "    filter_dict={\"model\": myModelname}\n",
    "    )\n",
    "\n",
    "# LLM config file for myModelname (your model Name)\n",
    "\n",
    "llm_myModelName_config={\n",
    "        \"timeout\": 600,\n",
    "        \"seed\": 42,\n",
    "        \"config_list\": config_list,\n",
    "    }"
   ]
  },
  {
   "cell_type": "markdown",
   "metadata": {},
   "source": [
    "An example of such agents is the built-in ConversableAgent which supports the following components:\n",
    "\n",
    "- list of LLMs\n",
    "- code executor\n",
    "- function and tool executor\n",
    "- component for keeping human-in-the-loop"
   ]
  },
  {
   "cell_type": "code",
   "execution_count": 10,
   "metadata": {},
   "outputs": [],
   "source": [
    "\n",
    "from autogen import ConversableAgent\n",
    "\n",
    "agent = ConversableAgent(\n",
    "    \"MyFirstAgent_Conversable\",\n",
    "    llm_config=llm_myModelName_config,\n",
    "    code_execution_config=False,  # Turn off code execution, by default it is off.\n",
    "    function_map=None,  # No registered functions, by default it is None.\n",
    "    human_input_mode=\"NEVER\",  # Never ask for human input.\n",
    ")"
   ]
  },
  {
   "cell_type": "markdown",
   "metadata": {},
   "source": [
    "You can ask this agent to generate a response to a question using the generate_reply method:"
   ]
  },
  {
   "cell_type": "code",
   "execution_count": 11,
   "metadata": {},
   "outputs": [
    {
     "name": "stdout",
     "output_type": "stream",
     "text": [
      "Sure, here's a flower-themed joke for you: Why don't flowers ever tell lies? Because they always tell the daisy truth!\n"
     ]
    }
   ],
   "source": [
    "reply = agent.generate_reply(messages=[{\"content\": \"Tell me a joke about flowers.\", \"role\": \"user\"}])\n",
    "print(reply)"
   ]
  }
 ],
 "metadata": {
  "kernelspec": {
   "display_name": "Python 3",
   "language": "python",
   "name": "python3"
  },
  "language_info": {
   "codemirror_mode": {
    "name": "ipython",
    "version": 3
   },
   "file_extension": ".py",
   "mimetype": "text/x-python",
   "name": "python",
   "nbconvert_exporter": "python",
   "pygments_lexer": "ipython3",
   "version": "3.12.2"
  }
 },
 "nbformat": 4,
 "nbformat_minor": 2
}
